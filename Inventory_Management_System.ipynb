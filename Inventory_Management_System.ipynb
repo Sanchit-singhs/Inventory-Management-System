{
  "nbformat": 4,
  "nbformat_minor": 0,
  "metadata": {
    "colab": {
      "name": "Inventory Management System.ipynb",
      "provenance": [],
      "collapsed_sections": []
    },
    "kernelspec": {
      "name": "python3",
      "display_name": "Python 3"
    },
    "language_info": {
      "name": "python"
    }
  },
  "cells": [
    {
      "cell_type": "code",
      "metadata": {
        "id": "B2gcWaHHqakz"
      },
      "source": [
        "inv = {\n",
        "       \"1001\": {\"name\": \"pie\", \"quantity\": 34, \"price\": 10 , \"category\": \"eatable\", \"discount\":\"applicable\"}, \n",
        "       \"1002\": {\"name\": \"scale\", \"price\": 800, \"quantity\": 70, \"category\": \"eatable\", \"discount\":\"applicable\"}, \n",
        "       \"1003\": {\"name\": \"Drink\", \"price\": 85, \"quantity\": 80, \"category\": \"eatable\", \"discount\":\"applicable\"}, \n",
        "       \"1004\": {\"name\": \"Candy\", \"price\": 5, \"quantity\": 1800, \"category\": \"eatable\", \"discount\":\"applicable\"}, \n",
        "       \"1005\": {\"name\": \"Pen\", \"price\": 20, \"quantity\": 1070, \"category\": \"stationary\", \"discount\":\"not applicable\"}, \n",
        "       \"1006\": {\"name\": \"Phone\", \"price\": 50000, \"quantity\": 10000, \"category\": \"device\", \"discount\":\"applicable\"}, \n",
        "       \"1007\": {\"name\": \"Mic\", \"price\": 1500, \"quantity\": 500, \"category\": \"device\", \"discount\":\" not applicable\"}, \n",
        "       \"1008\": {\"name\": \"Case\", \"price\": 599, \"quantity\": 500, \"category\": \"device\", \"discount\":\"applicable\"}, \n",
        "       \"1009\": {\"name\": \"Keyboard\", \"price\": 1999, \"quantity\": 1000, \"category\": \"device\", \"discount\":\"applicable\"},\n",
        "       \"1010\": {\"name\": \"peanut butter\", \"quantity\": 34, \"price\": 100 , \"category\": \"eatable\", \"discount\":\"applicable\"}, \n",
        "       \"1011\": {\"name\": \"ice cream\", \"price\": 800, \"quantity\": 100, \"category\": \"eatable\", \"discount\":\"applicable\"}, \n",
        "       \"1012\": {\"name\": \"soda\", \"price\": 85, \"quantity\": 100, \"category\": \"eatable\", \"discount\":\"applicable\"}, \n",
        "       \"1013\": {\"name\": \"Bars\", \"price\": 5, \"quantity\": 1000, \"category\": \"eatable\", \"discount\":\"applicable\"}, \n",
        "       \"1014\": {\"name\": \"tools\", \"price\": 20, \"quantity\": 100, \"category\": \"stationary\", \"discount\":\"not applicable\"}, \n",
        "       \"1015\": {\"name\": \"tables\", \"price\": 50000, \"quantity\": 10, \"category\": \"device\", \"discount\":\"applicable\"}, \n",
        "       \"1016\": {\"name\": \"mouse\", \"price\": 1500, \"quantity\": 40, \"category\": \"device\", \"discount\":\" not applicable\"}, \n",
        "       \"1017\": {\"name\": \"softener\", \"price\": 599, \"quantity\": 50, \"category\": \"device\", \"discount\":\"applicable\"}, \n",
        "       \"1018\": {\"name\": \"cable\", \"price\": 1999, \"quantity\": 10, \"category\": \"device\", \"discount\":\"applicable\"},\n",
        "       \"1019\": {\"name\": \"coke\", \"quantity\": 34, \"price\": 100 , \"category\": \"eatable\", \"discount\":\"applicable\"}, \n",
        "       \"1020\": {\"name\": \"fevicol\", \"price\": 800, \"quantity\": 100, \"category\": \"eatable\", \"discount\":\"applicable\"}, \n",
        "       \"1021\": {\"name\": \"whitener\", \"price\": 85, \"quantity\": 100, \"category\": \"eatable\", \"discount\":\"applicable\"}, \n",
        "       \"1022\": {\"name\": \"shampoo\", \"price\": 5, \"quantity\": 1000, \"category\": \"eatable\", \"discount\":\"applicable\"}, \n",
        "       \"1023\": {\"name\": \"cream\", \"price\": 20, \"quantity\": 100, \"category\": \"stationary\", \"discount\":\"not applicable\"}, \n",
        "       \"1024\": {\"name\": \"tennis\", \"price\": 50000, \"quantity\": 10, \"category\": \"device\", \"discount\":\"applicable\"}, \n",
        "       \"1025\": {\"name\": \"cooler\", \"price\": 1500, \"quantity\": 50, \"category\": \"device\", \"discount\":\" not applicable\"}, \n",
        "       \"1026\": {\"name\": \"air conditioner\", \"price\": 599, \"quantity\": 50, \"category\": \"device\", \"discount\":\"applicable\"}, \n",
        "       \"1027\": {\"name\": \"tube light\", \"price\": 1999, \"quantity\": 10, \"category\": \"device\", \"discount\":\"applicable\"},\n",
        "       \"1029\": {\"name\": \"bed\", \"quantity\": 34, \"price\": 10000 , \"category\": \"eatable\", \"discount\":\"applicable\"}, \n",
        "       \"1030\": {\"name\": \"sheets\", \"price\": 800, \"quantity\": 100, \"category\": \"eatable\", \"discount\":\"applicable\"}\n",
        "       }\n",
        "   "
      ],
      "execution_count": 95,
      "outputs": []
    },
    {
      "cell_type": "code",
      "metadata": {
        "id": "ORhbqQShaJrN"
      },
      "source": [
        "import json"
      ],
      "execution_count": 96,
      "outputs": []
    },
    {
      "cell_type": "code",
      "metadata": {
        "id": "pwxSQuECtPIT"
      },
      "source": [
        "js = json.dumps(inv)"
      ],
      "execution_count": 97,
      "outputs": []
    },
    {
      "cell_type": "code",
      "metadata": {
        "colab": {
          "base_uri": "https://localhost:8080/",
          "height": 171
        },
        "id": "R_YTvt9gteHZ",
        "outputId": "f9ef57a4-0e11-471a-9903-717d54bb64ed"
      },
      "source": [
        "js"
      ],
      "execution_count": 98,
      "outputs": [
        {
          "output_type": "execute_result",
          "data": {
            "application/vnd.google.colaboratory.intrinsic+json": {
              "type": "string"
            },
            "text/plain": [
              "'{\"1001\": {\"name\": \"pie\", \"quantity\": 34, \"price\": 10, \"category\": \"eatable\", \"discount\": \"applicable\"}, \"1002\": {\"name\": \"scale\", \"price\": 800, \"quantity\": 70, \"category\": \"eatable\", \"discount\": \"applicable\"}, \"1003\": {\"name\": \"Drink\", \"price\": 85, \"quantity\": 80, \"category\": \"eatable\", \"discount\": \"applicable\"}, \"1004\": {\"name\": \"Candy\", \"price\": 5, \"quantity\": 1800, \"category\": \"eatable\", \"discount\": \"applicable\"}, \"1005\": {\"name\": \"Pen\", \"price\": 20, \"quantity\": 1070, \"category\": \"stationary\", \"discount\": \"not applicable\"}, \"1006\": {\"name\": \"Phone\", \"price\": 50000, \"quantity\": 10000, \"category\": \"device\", \"discount\": \"applicable\"}, \"1007\": {\"name\": \"Mic\", \"price\": 1500, \"quantity\": 500, \"category\": \"device\", \"discount\": \" not applicable\"}, \"1008\": {\"name\": \"Case\", \"price\": 599, \"quantity\": 500, \"category\": \"device\", \"discount\": \"applicable\"}, \"1009\": {\"name\": \"Keyboard\", \"price\": 1999, \"quantity\": 1000, \"category\": \"device\", \"discount\": \"applicable\"}, \"1010\": {\"name\": \"peanut butter\", \"quantity\": 34, \"price\": 100, \"category\": \"eatable\", \"discount\": \"applicable\"}, \"1011\": {\"name\": \"ice cream\", \"price\": 800, \"quantity\": 100, \"category\": \"eatable\", \"discount\": \"applicable\"}, \"1012\": {\"name\": \"soda\", \"price\": 85, \"quantity\": 100, \"category\": \"eatable\", \"discount\": \"applicable\"}, \"1013\": {\"name\": \"Bars\", \"price\": 5, \"quantity\": 1000, \"category\": \"eatable\", \"discount\": \"applicable\"}, \"1014\": {\"name\": \"tools\", \"price\": 20, \"quantity\": 100, \"category\": \"stationary\", \"discount\": \"not applicable\"}, \"1015\": {\"name\": \"tables\", \"price\": 50000, \"quantity\": 10, \"category\": \"device\", \"discount\": \"applicable\"}, \"1016\": {\"name\": \"mouse\", \"price\": 1500, \"quantity\": 40, \"category\": \"device\", \"discount\": \" not applicable\"}, \"1017\": {\"name\": \"softener\", \"price\": 599, \"quantity\": 50, \"category\": \"device\", \"discount\": \"applicable\"}, \"1018\": {\"name\": \"cable\", \"price\": 1999, \"quantity\": 10, \"category\": \"device\", \"discount\": \"applicable\"}, \"1019\": {\"name\": \"coke\", \"quantity\": 34, \"price\": 100, \"category\": \"eatable\", \"discount\": \"applicable\"}, \"1020\": {\"name\": \"fevicol\", \"price\": 800, \"quantity\": 100, \"category\": \"eatable\", \"discount\": \"applicable\"}, \"1021\": {\"name\": \"whitener\", \"price\": 85, \"quantity\": 100, \"category\": \"eatable\", \"discount\": \"applicable\"}, \"1022\": {\"name\": \"shampoo\", \"price\": 5, \"quantity\": 1000, \"category\": \"eatable\", \"discount\": \"applicable\"}, \"1023\": {\"name\": \"cream\", \"price\": 20, \"quantity\": 100, \"category\": \"stationary\", \"discount\": \"not applicable\"}, \"1024\": {\"name\": \"tennis\", \"price\": 50000, \"quantity\": 10, \"category\": \"device\", \"discount\": \"applicable\"}, \"1025\": {\"name\": \"cooler\", \"price\": 1500, \"quantity\": 50, \"category\": \"device\", \"discount\": \" not applicable\"}, \"1026\": {\"name\": \"air conditioner\", \"price\": 599, \"quantity\": 50, \"category\": \"device\", \"discount\": \"applicable\"}, \"1027\": {\"name\": \"tube light\", \"price\": 1999, \"quantity\": 10, \"category\": \"device\", \"discount\": \"applicable\"}, \"1029\": {\"name\": \"bed\", \"quantity\": 34, \"price\": 10000, \"category\": \"eatable\", \"discount\": \"applicable\"}, \"1030\": {\"name\": \"sheets\", \"price\": 800, \"quantity\": 100, \"category\": \"eatable\", \"discount\": \"applicable\"}}'"
            ]
          },
          "metadata": {},
          "execution_count": 98
        }
      ]
    },
    {
      "cell_type": "code",
      "metadata": {
        "id": "d4mGupj6maWH"
      },
      "source": [
        "fd = open(\"inv.json\",'w')\n",
        "r = fd.write(js)\n",
        "fd.close()"
      ],
      "execution_count": 99,
      "outputs": []
    },
    {
      "cell_type": "code",
      "metadata": {
        "id": "fHvpBErjnyT3"
      },
      "source": [
        "fd = open(\"inv.json\",'r')\n",
        "r = fd.read()\n",
        "fd.close()\n",
        "\n",
        "records = json.loads(r)"
      ],
      "execution_count": 100,
      "outputs": []
    },
    {
      "cell_type": "code",
      "metadata": {
        "colab": {
          "base_uri": "https://localhost:8080/"
        },
        "id": "Suk4ivNYn4oJ",
        "outputId": "550d0f35-572a-4dba-c925-8a8f43c20d38"
      },
      "source": [
        "records"
      ],
      "execution_count": 101,
      "outputs": [
        {
          "output_type": "execute_result",
          "data": {
            "text/plain": [
              "{'1001': {'category': 'eatable',\n",
              "  'discount': 'applicable',\n",
              "  'name': 'pie',\n",
              "  'price': 10,\n",
              "  'quantity': 34},\n",
              " '1002': {'category': 'eatable',\n",
              "  'discount': 'applicable',\n",
              "  'name': 'scale',\n",
              "  'price': 800,\n",
              "  'quantity': 70},\n",
              " '1003': {'category': 'eatable',\n",
              "  'discount': 'applicable',\n",
              "  'name': 'Drink',\n",
              "  'price': 85,\n",
              "  'quantity': 80},\n",
              " '1004': {'category': 'eatable',\n",
              "  'discount': 'applicable',\n",
              "  'name': 'Candy',\n",
              "  'price': 5,\n",
              "  'quantity': 1800},\n",
              " '1005': {'category': 'stationary',\n",
              "  'discount': 'not applicable',\n",
              "  'name': 'Pen',\n",
              "  'price': 20,\n",
              "  'quantity': 1070},\n",
              " '1006': {'category': 'device',\n",
              "  'discount': 'applicable',\n",
              "  'name': 'Phone',\n",
              "  'price': 50000,\n",
              "  'quantity': 10000},\n",
              " '1007': {'category': 'device',\n",
              "  'discount': ' not applicable',\n",
              "  'name': 'Mic',\n",
              "  'price': 1500,\n",
              "  'quantity': 500},\n",
              " '1008': {'category': 'device',\n",
              "  'discount': 'applicable',\n",
              "  'name': 'Case',\n",
              "  'price': 599,\n",
              "  'quantity': 500},\n",
              " '1009': {'category': 'device',\n",
              "  'discount': 'applicable',\n",
              "  'name': 'Keyboard',\n",
              "  'price': 1999,\n",
              "  'quantity': 1000},\n",
              " '1010': {'category': 'eatable',\n",
              "  'discount': 'applicable',\n",
              "  'name': 'peanut butter',\n",
              "  'price': 100,\n",
              "  'quantity': 34},\n",
              " '1011': {'category': 'eatable',\n",
              "  'discount': 'applicable',\n",
              "  'name': 'ice cream',\n",
              "  'price': 800,\n",
              "  'quantity': 100},\n",
              " '1012': {'category': 'eatable',\n",
              "  'discount': 'applicable',\n",
              "  'name': 'soda',\n",
              "  'price': 85,\n",
              "  'quantity': 100},\n",
              " '1013': {'category': 'eatable',\n",
              "  'discount': 'applicable',\n",
              "  'name': 'Bars',\n",
              "  'price': 5,\n",
              "  'quantity': 1000},\n",
              " '1014': {'category': 'stationary',\n",
              "  'discount': 'not applicable',\n",
              "  'name': 'tools',\n",
              "  'price': 20,\n",
              "  'quantity': 100},\n",
              " '1015': {'category': 'device',\n",
              "  'discount': 'applicable',\n",
              "  'name': 'tables',\n",
              "  'price': 50000,\n",
              "  'quantity': 10},\n",
              " '1016': {'category': 'device',\n",
              "  'discount': ' not applicable',\n",
              "  'name': 'mouse',\n",
              "  'price': 1500,\n",
              "  'quantity': 40},\n",
              " '1017': {'category': 'device',\n",
              "  'discount': 'applicable',\n",
              "  'name': 'softener',\n",
              "  'price': 599,\n",
              "  'quantity': 50},\n",
              " '1018': {'category': 'device',\n",
              "  'discount': 'applicable',\n",
              "  'name': 'cable',\n",
              "  'price': 1999,\n",
              "  'quantity': 10},\n",
              " '1019': {'category': 'eatable',\n",
              "  'discount': 'applicable',\n",
              "  'name': 'coke',\n",
              "  'price': 100,\n",
              "  'quantity': 34},\n",
              " '1020': {'category': 'eatable',\n",
              "  'discount': 'applicable',\n",
              "  'name': 'fevicol',\n",
              "  'price': 800,\n",
              "  'quantity': 100},\n",
              " '1021': {'category': 'eatable',\n",
              "  'discount': 'applicable',\n",
              "  'name': 'whitener',\n",
              "  'price': 85,\n",
              "  'quantity': 100},\n",
              " '1022': {'category': 'eatable',\n",
              "  'discount': 'applicable',\n",
              "  'name': 'shampoo',\n",
              "  'price': 5,\n",
              "  'quantity': 1000},\n",
              " '1023': {'category': 'stationary',\n",
              "  'discount': 'not applicable',\n",
              "  'name': 'cream',\n",
              "  'price': 20,\n",
              "  'quantity': 100},\n",
              " '1024': {'category': 'device',\n",
              "  'discount': 'applicable',\n",
              "  'name': 'tennis',\n",
              "  'price': 50000,\n",
              "  'quantity': 10},\n",
              " '1025': {'category': 'device',\n",
              "  'discount': ' not applicable',\n",
              "  'name': 'cooler',\n",
              "  'price': 1500,\n",
              "  'quantity': 50},\n",
              " '1026': {'category': 'device',\n",
              "  'discount': 'applicable',\n",
              "  'name': 'air conditioner',\n",
              "  'price': 599,\n",
              "  'quantity': 50},\n",
              " '1027': {'category': 'device',\n",
              "  'discount': 'applicable',\n",
              "  'name': 'tube light',\n",
              "  'price': 1999,\n",
              "  'quantity': 10},\n",
              " '1029': {'category': 'eatable',\n",
              "  'discount': 'applicable',\n",
              "  'name': 'bed',\n",
              "  'price': 10000,\n",
              "  'quantity': 34},\n",
              " '1030': {'category': 'eatable',\n",
              "  'discount': 'applicable',\n",
              "  'name': 'sheets',\n",
              "  'price': 800,\n",
              "  'quantity': 100}}"
            ]
          },
          "metadata": {},
          "execution_count": 101
        }
      ]
    },
    {
      "cell_type": "code",
      "metadata": {
        "colab": {
          "base_uri": "https://localhost:8080/"
        },
        "id": "cJ7wQAhPbMmd",
        "outputId": "3f13b803-fb0d-4998-b1c9-c16c9b91882a"
      },
      "source": [
        "#PURCHASE\n",
        "ui_prod  = str(input(\"Enter the product_Id: \"))\n",
        "ui_quant = int(input(\"Enter the quantity: \"))\n",
        "\n",
        "if records[ui_prod]['discount'] == 'applicable':\n",
        "  print(\"Product: \", records[ui_prod]['name'])\n",
        "  print(\"Price: \", records[ui_prod]['price'])\n",
        "  print(\"Billing Amount: \", records[ui_prod]['price'] * ui_quant)\n",
        "  print(\"Discount =\", records[ui_prod][\"price\"]*ui_quant*0.15)\n",
        "  print(\"Total amount payable =\", records[ui_prod]['price'] * ui_quant - records[ui_prod][\"price\"]*ui_quant*0.15 )\n",
        "else:\n",
        "  print(\"Product: \", records[ui_prod]['name'])\n",
        "  print(\"Price: \", records[ui_prod]['price'])\n",
        "  print(\"Billing Amount: \", records[ui_prod]['price'] * ui_quant)\n",
        "  print(\"Discount not applicable\")\n",
        "\n",
        "records[ui_prod]['quantity'] = records[ui_prod]['quantity'] - ui_quant"
      ],
      "execution_count": 102,
      "outputs": [
        {
          "output_type": "stream",
          "name": "stdout",
          "text": [
            "Enter the product_Id: 1023\n",
            "Enter the quantity: 1\n",
            "Product:  cream\n",
            "Price:  20\n",
            "Billing Amount:  20\n",
            "Discount not applicable\n"
          ]
        }
      ]
    },
    {
      "cell_type": "code",
      "metadata": {
        "id": "jJIBuKVJdK8f"
      },
      "source": [
        "# Update Inventory after purchase\n",
        "js = json.dumps(records)\n",
        "\n",
        "fd = open(\"record.json\",'w')\n",
        "fd.write(js)\n",
        "fd.close()"
      ],
      "execution_count": 103,
      "outputs": []
    }
  ]
}