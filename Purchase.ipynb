{
  "nbformat": 4,
  "nbformat_minor": 0,
  "metadata": {
    "colab": {
      "name": "Purchase.ipynb",
      "provenance": []
    },
    "kernelspec": {
      "name": "python3",
      "display_name": "Python 3"
    },
    "language_info": {
      "name": "python"
    }
  },
  "cells": [
    {
      "cell_type": "code",
      "metadata": {
        "id": "PxT_flZRSOcI"
      },
      "source": [
        "import json"
      ],
      "execution_count": null,
      "outputs": []
    },
    {
      "cell_type": "code",
      "metadata": {
        "id": "A1rTGUYkSoYq"
      },
      "source": [
        "fd = open(\"record.json\",'r')\n",
        "r = fd.read()\n",
        "fd.close()\n",
        "\n",
        "records = json.loads(r)"
      ],
      "execution_count": null,
      "outputs": []
    },
    {
      "cell_type": "code",
      "metadata": {
        "id": "YkOO7MwVSp-8",
        "colab": {
          "base_uri": "https://localhost:8080/"
        },
        "outputId": "f801b2e6-d9a7-47e8-fdca-79674bb533bb"
      },
      "source": [
        "records"
      ],
      "execution_count": null,
      "outputs": [
        {
          "output_type": "execute_result",
          "data": {
            "text/plain": [
              "{'1001': {'category': 'eatable',\n",
              "  'discount': 'applicable',\n",
              "  'name': 'pie',\n",
              "  'price': 10,\n",
              "  'quantity': 34},\n",
              " '1002': {'category': 'eatable',\n",
              "  'discount': 'applicable',\n",
              "  'name': 'scale',\n",
              "  'price': 800,\n",
              "  'quantity': 70},\n",
              " '1003': {'category': 'eatable',\n",
              "  'discount': 'applicable',\n",
              "  'name': 'Drink',\n",
              "  'price': 85,\n",
              "  'quantity': 80},\n",
              " '1004': {'category': 'eatable',\n",
              "  'discount': 'applicable',\n",
              "  'name': 'Candy',\n",
              "  'price': 5,\n",
              "  'quantity': 1800},\n",
              " '1005': {'category': 'stationary',\n",
              "  'discount': 'not applicable',\n",
              "  'name': 'Pen',\n",
              "  'price': 20,\n",
              "  'quantity': 1070},\n",
              " '1006': {'category': 'device',\n",
              "  'discount': 'applicable',\n",
              "  'name': 'Phone',\n",
              "  'price': 50000,\n",
              "  'quantity': 9998},\n",
              " '1007': {'category': 'device',\n",
              "  'discount': ' not applicable',\n",
              "  'name': 'Mic',\n",
              "  'price': 1500,\n",
              "  'quantity': 500},\n",
              " '1008': {'category': 'device',\n",
              "  'discount': 'applicable',\n",
              "  'name': 'Case',\n",
              "  'price': 599,\n",
              "  'quantity': 500},\n",
              " '1009': {'category': 'device',\n",
              "  'discount': 'applicable',\n",
              "  'name': 'Keyboard',\n",
              "  'price': 1999,\n",
              "  'quantity': 1000},\n",
              " '1010': {'category': 'eatable',\n",
              "  'discount': 'applicable',\n",
              "  'name': 'peanut butter',\n",
              "  'price': 100,\n",
              "  'quantity': 34},\n",
              " '1011': {'category': 'eatable',\n",
              "  'discount': 'applicable',\n",
              "  'name': 'ice cream',\n",
              "  'price': 800,\n",
              "  'quantity': 100},\n",
              " '1012': {'category': 'eatable',\n",
              "  'discount': 'applicable',\n",
              "  'name': 'soda',\n",
              "  'price': 85,\n",
              "  'quantity': 100},\n",
              " '1013': {'category': 'eatable',\n",
              "  'discount': 'applicable',\n",
              "  'name': 'Bars',\n",
              "  'price': 5,\n",
              "  'quantity': 1000},\n",
              " '1014': {'category': 'stationary',\n",
              "  'discount': 'not applicable',\n",
              "  'name': 'tools',\n",
              "  'price': 20,\n",
              "  'quantity': 100},\n",
              " '1015': {'category': 'device',\n",
              "  'discount': 'applicable',\n",
              "  'name': 'tables',\n",
              "  'price': 50000,\n",
              "  'quantity': 10},\n",
              " '1016': {'category': 'device',\n",
              "  'discount': ' not applicable',\n",
              "  'name': 'mouse',\n",
              "  'price': 1500,\n",
              "  'quantity': 40},\n",
              " '1017': {'category': 'device',\n",
              "  'discount': 'applicable',\n",
              "  'name': 'softener',\n",
              "  'price': 599,\n",
              "  'quantity': 50},\n",
              " '1018': {'category': 'device',\n",
              "  'discount': 'applicable',\n",
              "  'name': 'cable',\n",
              "  'price': 1999,\n",
              "  'quantity': 10},\n",
              " '1019': {'category': 'eatable',\n",
              "  'discount': 'applicable',\n",
              "  'name': 'coke',\n",
              "  'price': 100,\n",
              "  'quantity': 34},\n",
              " '1020': {'category': 'eatable',\n",
              "  'discount': 'applicable',\n",
              "  'name': 'fevicol',\n",
              "  'price': 800,\n",
              "  'quantity': 100},\n",
              " '1021': {'category': 'eatable',\n",
              "  'discount': 'applicable',\n",
              "  'name': 'whitener',\n",
              "  'price': 85,\n",
              "  'quantity': 100},\n",
              " '1022': {'category': 'eatable',\n",
              "  'discount': 'applicable',\n",
              "  'name': 'shampoo',\n",
              "  'price': 5,\n",
              "  'quantity': 1000},\n",
              " '1023': {'category': 'stationary',\n",
              "  'discount': 'not applicable',\n",
              "  'name': 'cream',\n",
              "  'price': 20,\n",
              "  'quantity': 99},\n",
              " '1024': {'category': 'device',\n",
              "  'discount': 'applicable',\n",
              "  'name': 'tennis',\n",
              "  'price': 50000,\n",
              "  'quantity': 10},\n",
              " '1025': {'category': 'device',\n",
              "  'discount': ' not applicable',\n",
              "  'name': 'cooler',\n",
              "  'price': 1500,\n",
              "  'quantity': 50},\n",
              " '1026': {'category': 'device',\n",
              "  'discount': 'applicable',\n",
              "  'name': 'air conditioner',\n",
              "  'price': 599,\n",
              "  'quantity': 50},\n",
              " '1027': {'category': 'device',\n",
              "  'discount': 'applicable',\n",
              "  'name': 'tube light',\n",
              "  'price': 1999,\n",
              "  'quantity': 10},\n",
              " '1029': {'category': 'eatable',\n",
              "  'discount': 'applicable',\n",
              "  'name': 'bed',\n",
              "  'price': 10000,\n",
              "  'quantity': 34},\n",
              " '1030': {'category': 'eatable',\n",
              "  'discount': 'applicable',\n",
              "  'name': 'sheets',\n",
              "  'price': 800,\n",
              "  'quantity': 100}}"
            ]
          },
          "metadata": {},
          "execution_count": 26
        }
      ]
    },
    {
      "cell_type": "code",
      "metadata": {
        "id": "7DeViEOWStmE",
        "colab": {
          "base_uri": "https://localhost:8080/"
        },
        "outputId": "32abe9d4-2209-44c5-c2f1-d3fbeccfd5ea"
      },
      "source": [
        "ui_prod  = str(input(\"Enter the product_Id: \"))\n",
        "ui_quant = int(input(\"Enter the quantity: \"))\n",
        "\n",
        "if records[ui_prod]['discount'] == 'applicable':\n",
        "  print(\"Product: \", records[ui_prod]['name'])\n",
        "  print(\"Price: \", records[ui_prod]['price'])\n",
        "  print(\"Billing Amount: \", records[ui_prod]['price'] * ui_quant)\n",
        "  print(\"Discount =\", records[ui_prod][\"price\"]*ui_quant*0.15)\n",
        "  print(\"Total amount payable =\", records[ui_prod]['price'] * ui_quant - records[ui_prod][\"price\"]*ui_quant*0.15 )\n",
        "else:\n",
        "  print(\"Product: \", records[ui_prod]['name'])\n",
        "  print(\"Price: \", records[ui_prod]['price'])\n",
        "  print(\"Billing Amount: \", records[ui_prod]['price'] * ui_quant)\n",
        "  print(\"Discount not applicable\")\n",
        "\n",
        "records[ui_prod]['quantity'] = records[ui_prod]['quantity'] - ui_quant"
      ],
      "execution_count": null,
      "outputs": [
        {
          "output_type": "stream",
          "name": "stdout",
          "text": [
            "Enter the product_Id: 1003\n",
            "Enter the quantity: 2\n",
            "Product:  Drink\n",
            "Price:  85\n",
            "Billing Amount:  170\n",
            "Discount = 25.5\n",
            "Total amount payable = 144.5\n"
          ]
        }
      ]
    },
    {
      "cell_type": "code",
      "metadata": {
        "id": "ko1sLC4cTWW8"
      },
      "source": [
        "# Update Inventory after purchase\n",
        "js = json.dumps(records)\n",
        "\n",
        "fd = open(\"record.json\",'w')\n",
        "fd.write(js)\n",
        "fd.close()"
      ],
      "execution_count": null,
      "outputs": []
    },
    {
      "cell_type": "code",
      "metadata": {
        "colab": {
          "base_uri": "https://localhost:8080/"
        },
        "id": "Y7D9axdtTuNZ",
        "outputId": "3b21cc16-e134-4bbf-c812-5c373312bfeb"
      },
      "source": [
        "#Sales\n",
        "{'product' : ui_prod, 'quantity' : ui_quant, 'amount': records[ui_prod]['price'] * ui_quant}"
      ],
      "execution_count": null,
      "outputs": [
        {
          "output_type": "execute_result",
          "data": {
            "text/plain": [
              "{'amount': 170, 'product': '1003', 'quantity': 2}"
            ]
          },
          "metadata": {},
          "execution_count": 76
        }
      ]
    },
    {
      "cell_type": "code",
      "metadata": {
        "id": "kUpbf6j7UMoy"
      },
      "source": [
        "sales = {1 : {'product' : ui_prod, 'quantity' : ui_quant, 'amount': records[ui_prod]['price'] * ui_quant}}"
      ],
      "execution_count": null,
      "outputs": []
    },
    {
      "cell_type": "code",
      "metadata": {
        "colab": {
          "base_uri": "https://localhost:8080/",
          "height": 35
        },
        "id": "kAADt-6iU2WN",
        "outputId": "81e96048-782d-40c0-a518-4d3097733788"
      },
      "source": [
        "sale = json.dumps(sales)"
      ],
      "execution_count": null,
      "outputs": [
        {
          "output_type": "execute_result",
          "data": {
            "application/vnd.google.colaboratory.intrinsic+json": {
              "type": "string"
            },
            "text/plain": [
              "'{\"1\": {\"product\": \"1003\", \"quantity\": 2, \"amount\": 170}, \"2\": {\"product\": \"1003\", \"quantity\": 2, \"amount\": 170}}'"
            ]
          },
          "metadata": {},
          "execution_count": 82
        }
      ]
    },
    {
      "cell_type": "code",
      "metadata": {
        "colab": {
          "base_uri": "https://localhost:8080/"
        },
        "id": "mesXBnxiaROx",
        "outputId": "16a21a2e-c732-4936-f68c-997f6cd3cd7c"
      },
      "source": [
        "fd = open(\"sales.json\",'w')\n",
        "r = fd.write(sale)\n",
        "fd.close"
      ],
      "execution_count": null,
      "outputs": [
        {
          "output_type": "execute_result",
          "data": {
            "text/plain": [
              "<function TextIOWrapper.close>"
            ]
          },
          "metadata": {},
          "execution_count": 83
        }
      ]
    },
    {
      "cell_type": "code",
      "metadata": {
        "colab": {
          "base_uri": "https://localhost:8080/"
        },
        "id": "tqk1Fi-TWt7c",
        "outputId": "d219ed42-4dbc-4a07-d04f-a5559c0f0de5"
      },
      "source": [
        "{(len(sales) + 1 ) : {'product' : ui_prod, 'quantity' : ui_quant, 'amount': records[ui_prod]['price'] * ui_quant}}"
      ],
      "execution_count": null,
      "outputs": [
        {
          "output_type": "execute_result",
          "data": {
            "text/plain": [
              "{2: {'amount': 170, 'product': '1003', 'quantity': 2}}"
            ]
          },
          "metadata": {},
          "execution_count": 79
        }
      ]
    },
    {
      "cell_type": "code",
      "metadata": {
        "id": "Sj3h1iP0XnQM"
      },
      "source": [
        "sales[(len(sales) + 1 )] = {'product' : ui_prod, 'quantity' : ui_quant, 'amount': records[ui_prod]['price'] * ui_quant}"
      ],
      "execution_count": null,
      "outputs": []
    },
    {
      "cell_type": "code",
      "metadata": {
        "colab": {
          "base_uri": "https://localhost:8080/"
        },
        "id": "EOfH4qMaYCbH",
        "outputId": "651d2e22-4e62-4c61-dfd0-dae505a28aec"
      },
      "source": [
        "sales"
      ],
      "execution_count": null,
      "outputs": [
        {
          "output_type": "execute_result",
          "data": {
            "text/plain": [
              "{1: {'amount': 170, 'product': '1003', 'quantity': 2},\n",
              " 2: {'amount': 170, 'product': '1003', 'quantity': 2}}"
            ]
          },
          "metadata": {},
          "execution_count": 81
        }
      ]
    }
  ]
}